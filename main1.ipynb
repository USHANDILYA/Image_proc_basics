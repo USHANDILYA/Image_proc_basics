{
 "cells": [
  {
   "cell_type": "code",
   "execution_count": 1,
   "metadata": {},
   "outputs": [],
   "source": [
    "import cv2\n",
    "import numpy as np"
   ]
  },
  {
   "cell_type": "markdown",
   "metadata": {},
   "source": [
    "**read an image**"
   ]
  },
  {
   "cell_type": "code",
   "execution_count": 8,
   "metadata": {},
   "outputs": [
    {
     "name": "stdout",
     "output_type": "stream",
     "text": [
      "<class 'numpy.ndarray'>\n",
      "(313, 360, 3)\n"
     ]
    }
   ],
   "source": [
    "frt=cv2.imread(\"image/fruits.png\") # image stored in a variable as numpy array\n",
    "print(type(frt)) #for opencv it is numpy array\n",
    "print(frt.shape) # 313,360 are resolutions and it has 3 channels i.e rgb image"
   ]
  },
  {
   "cell_type": "markdown",
   "metadata": {},
   "source": [
    "**how to display the image**"
   ]
  },
  {
   "cell_type": "code",
   "execution_count": 3,
   "metadata": {},
   "outputs": [
    {
     "data": {
      "text/plain": [
       "-1"
      ]
     },
     "execution_count": 3,
     "metadata": {},
     "output_type": "execute_result"
    }
   ],
   "source": [
    "cv2.imshow(\"window\",frt) # here you can give any name to your window\n",
    "# agar sirf itna code likhoge to image aaega aur chala jaega\n",
    "#screen pr image ko rakhne ke lie ek loc aur\n",
    "\n",
    "cv2.waitKey(0) #K must be capital\n",
    "#here we have introduced a delay to close the window\n",
    "# the delay 0 means infinite"
   ]
  },
  {
   "cell_type": "markdown",
   "metadata": {},
   "source": [
    "**how to convert rgb to grayscale**"
   ]
  },
  {
   "cell_type": "code",
   "execution_count": 4,
   "metadata": {},
   "outputs": [
    {
     "data": {
      "text/plain": [
       "-1"
      ]
     },
     "execution_count": 4,
     "metadata": {},
     "output_type": "execute_result"
    }
   ],
   "source": [
    "#opencv me encoding bgr hota hai\n",
    "img_gray=cv2.cvtColor(frt,cv2.COLOR_BGR2GRAY)\n",
    "cv2.imshow(\"window\",img_gray)\n",
    "cv2.waitKey(0)"
   ]
  },
  {
   "cell_type": "code",
   "execution_count": 5,
   "metadata": {},
   "outputs": [
    {
     "name": "stdout",
     "output_type": "stream",
     "text": [
      "(313, 360)\n"
     ]
    }
   ],
   "source": [
    "print(img_gray.shape)\n",
    "#ab 3 channels nahi hai hence grayscale image\n",
    "# ab yaha rgb components nahi hai"
   ]
  },
  {
   "cell_type": "markdown",
   "metadata": {},
   "source": [
    "**Experiments with RGB color channels**"
   ]
  },
  {
   "cell_type": "code",
   "execution_count": 6,
   "metadata": {},
   "outputs": [
    {
     "data": {
      "text/plain": [
       "-1"
      ]
     },
     "execution_count": 6,
     "metadata": {},
     "output_type": "execute_result"
    }
   ],
   "source": [
    "frt[:,:,0]=0\n",
    "#for greenchannel-frt[:,:,1]\n",
    "#its a 3d numpy array and here we have changed the first channel i.e blue(bgr) to 0\n",
    "#so we are left with green and red\n",
    "cv2.imshow(\"window\",frt)\n",
    "cv2.waitKey(0)"
   ]
  },
  {
   "cell_type": "code",
   "execution_count": 9,
   "metadata": {},
   "outputs": [
    {
     "data": {
      "text/plain": [
       "-1"
      ]
     },
     "execution_count": 9,
     "metadata": {},
     "output_type": "execute_result"
    }
   ],
   "source": [
    "#to view these channels individually side by side\n",
    "imgblue=frt[:,:,0]\n",
    "imggreen=frt[:,:,1]\n",
    "imgred=frt[:,:,2]\n",
    "\n",
    "new_image=np.hstack((imgblue,imggreen,imgred))\n",
    "#here we have passed tupple of images to horizontal stack function of numpy array\n",
    "cv2.imshow(\"window\",new_image)\n",
    "cv2.waitKey(0)"
   ]
  },
  {
   "cell_type": "markdown",
   "metadata": {},
   "source": [
    "**Resizing images using opencv**"
   ]
  },
  {
   "cell_type": "code",
   "execution_count": 11,
   "metadata": {},
   "outputs": [
    {
     "data": {
      "text/plain": [
       "-1"
      ]
     },
     "execution_count": 11,
     "metadata": {},
     "output_type": "execute_result"
    }
   ],
   "source": [
    "img_resize=cv2.resize(frt,(100,100))\n",
    "#here we have provided tuple for new size of image\n",
    "cv2.imshow(\"window\",img_resize)\n",
    "cv2.waitKey(0)\n",
    "#this is used alongwith flask in resizing websites"
   ]
  },
  {
   "cell_type": "code",
   "execution_count": 13,
   "metadata": {},
   "outputs": [
    {
     "name": "stdout",
     "output_type": "stream",
     "text": [
      "(156, 180, 3)\n"
     ]
    }
   ],
   "source": [
    "#if we dont know the size and want to reduce the resolution by 50 percent\n",
    "img_resize1=cv2.resize(frt,(frt.shape[1]//2,frt.shape[0]//2))\n",
    "#here we have done integer division so that we dont get floating point numbers in resolution\n",
    "cv2.imshow(\"window\",img_resize)\n",
    "cv2.waitKey(0)\n",
    "print(img_resize1.shape)\n",
    "#yaha [1] means width opencv ulta leta hai(pehle width)"
   ]
  },
  {
   "cell_type": "markdown",
   "metadata": {},
   "source": [
    "**Flipping images**"
   ]
  },
  {
   "cell_type": "code",
   "execution_count": 14,
   "metadata": {},
   "outputs": [
    {
     "data": {
      "text/plain": [
       "-1"
      ]
     },
     "execution_count": 14,
     "metadata": {},
     "output_type": "execute_result"
    }
   ],
   "source": [
    "img_flip=cv2.flip(frt,0)\n",
    "#here we have 3 codes(0,1,2)\n",
    "#0-ulta hojaega(upr wli chiz niche and vice versa) i.e vertical axis flip\n",
    "#1-horizontal axis par flip\n",
    "#-1-combined effect i.e horizontal+vertical flip\n",
    "cv2.imshow(\"window\",img_flip)\n",
    "cv2.waitKey(0)\n",
    "#flipping is used in data augmentation in dl to avoid overfitting"
   ]
  },
  {
   "cell_type": "markdown",
   "metadata": {},
   "source": [
    "**Cropping**"
   ]
  },
  {
   "cell_type": "code",
   "execution_count": 15,
   "metadata": {},
   "outputs": [
    {
     "data": {
      "text/plain": [
       "-1"
      ]
     },
     "execution_count": 15,
     "metadata": {},
     "output_type": "execute_result"
    }
   ],
   "source": [
    "#here we fetch the subset of our image\n",
    "#we are slicing our numpy array\n",
    "img_crop=frt[100:300,200:500]\n",
    "#100:300-vertical/height axis\n",
    "#200:500-horizontal/width axis\n",
    "cv2.imshow(\"window\",img_crop)\n",
    "cv2.waitKey(0)"
   ]
  },
  {
   "cell_type": "markdown",
   "metadata": {},
   "source": [
    "Top left part of image is the origin\n",
    "horizontally right is width\n",
    "vertically down is height\n",
    "first we mention height and then width\n"
   ]
  },
  {
   "cell_type": "markdown",
   "metadata": {},
   "source": [
    "**Saving an image for further usage**"
   ]
  },
  {
   "cell_type": "code",
   "execution_count": 16,
   "metadata": {},
   "outputs": [
    {
     "data": {
      "text/plain": [
       "True"
      ]
     },
     "execution_count": 16,
     "metadata": {},
     "output_type": "execute_result"
    }
   ],
   "source": [
    "cv2.imwrite('img_crop.png',img_crop)\n",
    "#first we mention the filename and then which image to be saved"
   ]
  },
  {
   "cell_type": "markdown",
   "metadata": {},
   "source": [
    "**Drawing Shapes**"
   ]
  },
  {
   "cell_type": "markdown",
   "metadata": {},
   "source": [
    "This is used in object tracking/detection.Basically you place the objects inside a box to show what have you detected."
   ]
  },
  {
   "cell_type": "code",
   "execution_count": 19,
   "metadata": {},
   "outputs": [
    {
     "data": {
      "text/plain": [
       "-1"
      ]
     },
     "execution_count": 19,
     "metadata": {},
     "output_type": "execute_result"
    }
   ],
   "source": [
    "#we will create a black image to show the shapes clearly\n",
    "img=np.zeros((512,512,3))\n",
    "cv2.imshow(\"window\",img)\n",
    "cv2.waitKey(0)"
   ]
  },
  {
   "cell_type": "code",
   "execution_count": 20,
   "metadata": {},
   "outputs": [
    {
     "data": {
      "text/plain": [
       "-1"
      ]
     },
     "execution_count": 20,
     "metadata": {},
     "output_type": "execute_result"
    }
   ],
   "source": [
    "#Rectangle\n",
    "cv2.rectangle(img,pt1=(50,50),pt2=(250,250),color=(255,0,0),thickness=3)\n",
    "cv2.imshow(\"window\",img)\n",
    "cv2.waitKey(0)"
   ]
  },
  {
   "cell_type": "markdown",
   "metadata": {},
   "source": [
    "*In arguments above the 2 points are top left corner point for rectangle and bottom right corner point for rectangle.\n",
    "*Color-(255,0,0) signifies blue color as BGR format is used here\n",
    "*To fill the whole rectangle from inside,write Thickness=-1"
   ]
  },
  {
   "cell_type": "code",
   "execution_count": 21,
   "metadata": {},
   "outputs": [
    {
     "data": {
      "text/plain": [
       "-1"
      ]
     },
     "execution_count": 21,
     "metadata": {},
     "output_type": "execute_result"
    }
   ],
   "source": [
    "#Circle\n",
    "cv2.circle(img,center=(75,200),radius=30,color=(0,0,255),thickness=3)\n",
    "cv2.imshow(\"window\",img)\n",
    "cv2.waitKey(0)"
   ]
  },
  {
   "cell_type": "code",
   "execution_count": 22,
   "metadata": {},
   "outputs": [
    {
     "data": {
      "text/plain": [
       "-1"
      ]
     },
     "execution_count": 22,
     "metadata": {},
     "output_type": "execute_result"
    }
   ],
   "source": [
    "#Line\n",
    "cv2.line(img,pt1=(0,0),pt2=(150,150),thickness=2,color=(0,255,0))\n",
    "cv2.imshow(\"window\",img)\n",
    "cv2.waitKey(0)"
   ]
  },
  {
   "cell_type": "code",
   "execution_count": null,
   "metadata": {},
   "outputs": [],
   "source": [
    "#Text"
   ]
  },
  {
   "cell_type": "code",
   "execution_count": 23,
   "metadata": {},
   "outputs": [
    {
     "data": {
      "text/plain": [
       "-1"
      ]
     },
     "execution_count": 23,
     "metadata": {},
     "output_type": "execute_result"
    }
   ],
   "source": [
    "cv2.putText(img,org=(90,90),fontScale=2,color=(0,255,255),thickness=2,lineType=cv2.LINE_AA,text=\"Hello\",fontFace=cv2.FONT_ITALIC)\n",
    "cv2.imshow(\"window\",img)\n",
    "cv2.waitKey(0)"
   ]
  },
  {
   "cell_type": "markdown",
   "metadata": {},
   "source": [
    "*org means kaha se text start hoga\n",
    "*fontscale-kitna bda font\n",
    "*fontface-konsa font use krrhe ho\n",
    "*font se labels bna skte hai objects ka"
   ]
  },
  {
   "cell_type": "markdown",
   "metadata": {},
   "source": [
    "**Live direct drawing**"
   ]
  },
  {
   "cell_type": "markdown",
   "metadata": {},
   "source": [
    "*Here we interact with the images using *EVENTS*\n",
    "*For example an event is click of a mouse\n",
    "*Here we will see a code which allows creation of a cirle on an image when we click mouse button on the image"
   ]
  },
  {
   "cell_type": "code",
   "execution_count": 2,
   "metadata": {},
   "outputs": [],
   "source": [
    "#callback function\n",
    "img1=np.zeros((512,512,3))\n",
    "def draw(event,x,y,flags,params):\n",
    "    if event == 1:\n",
    "        cv2.circle(img1,center=(x,y),radius=50,color=(0,0,255),thickness=-1)\n",
    "#here we get 3 results 0,1,4\n",
    "#0-Mouse moving on window\n",
    "#1-Click \n",
    "#4-Click karke chora            \n",
    "cv2.namedWindow(winname=\"window\") #kis window par kaam kar rahe ho\n",
    "\n",
    "cv2.setMouseCallback(\"window\",draw) #this is the listener\n",
    "#second parameter is function name to be triggered while this event happens\n",
    "\n",
    "#set up the namedWindow and setMouseCallback before entering the infinite loop\n",
    "while True:#infinite loop\n",
    "    cv2.imshow(\"window\",img1)\n",
    "    #command to continously show the image\n",
    "    if cv2.waitKey(1) & 0xFF == ord('x'):\n",
    "        break\n",
    "    #command to break the infinite loop if waittime is 1 s and key x is pressed then we come out of loop\n",
    "\n",
    "cv2.destroyAllWindows()"
   ]
  },
  {
   "cell_type": "markdown",
   "metadata": {},
   "source": [
    "*Event-Event type\n",
    "*x-x coordinate of mouse while it is clicked\n",
    "*y-y coordinate of mouse while it is clicked\n",
    "*flags\n",
    "*params-Extra parameters which we wont use but necessary to specify here"
   ]
  },
  {
   "cell_type": "markdown",
   "metadata": {},
   "source": [
    "We create an event listner which check for mouse clicks and as soon as it happens it triggers the function"
   ]
  },
  {
   "cell_type": "markdown",
   "metadata": {},
   "source": [
    "*while true signifies jabtak loop chalrha hai tabtak baar baar image ko refresh krke new image dikhao \n",
    "*the above code is used continously while dealing with videos\n"
   ]
  },
  {
   "cell_type": "markdown",
   "metadata": {},
   "source": [
    "**Creating rectangular frame by dragging**\n"
   ]
  },
  {
   "cell_type": "markdown",
   "metadata": {},
   "source": [
    "Here we have 3 mouse events\n",
    "* Click the mouse(1)\n",
    "* Drag the mouse to get necessary rectangle(0)\n",
    "* Release the mouse(4)\n",
    "\n",
    "We need to write code for all 3 events"
   ]
  },
  {
   "cell_type": "markdown",
   "metadata": {},
   "source": [
    "Rectangle banana hai jab mouse drag horha hai not ki jab click hua initially"
   ]
  },
  {
   "cell_type": "code",
   "execution_count": 4,
   "metadata": {},
   "outputs": [],
   "source": [
    "img1=np.zeros((512,512,3))\n",
    "flag=False\n",
    "ix=-1 #current location of x\n",
    "iy=-1 #current location of y\n",
    "\n",
    "def draw(event,x,y,flags,params):\n",
    "    global flag,ix,iy\n",
    "    #global is used to change variables defined outside the function \n",
    "    if event==1: #condtion jab mouse down press hua\n",
    "        #is point par drawing start hoga\n",
    "        flag=True #it means we can draw now\n",
    "        ix=x #initial x\n",
    "        iy=y #initial y \n",
    "        #yahi se rectangle banana start karna hai\n",
    "    elif event==0:\n",
    "        if flag==True:\n",
    "            cv2.rectangle(img1,pt1=(ix,iy),pt2=(x,y),color=(0,255,255),thickness=-1)\n",
    "            #pt2 is current location jaha tak draw krna hai\n",
    "    elif event==4: #mouse is unpressed\n",
    "        flag=False\n",
    "        cv2.rectangle(img1,pt1=(ix,iy),pt2=(x,y),color=(0,255,255),thickness=-1)           \n",
    "\n",
    "cv2.namedWindow(winname=\"window\") #kis window par kaam kar rahe ho\n",
    "\n",
    "cv2.setMouseCallback(\"window\",draw) #this is the listener\n",
    "#second parameter is function name to be triggered while this event happens\n",
    "\n",
    "#set up the namedWindow and setMouseCallback before entering the infinite loop\n",
    "while True:#infinite loop\n",
    "    cv2.imshow(\"window\",img1)\n",
    "    #command to continously show the image\n",
    "    if cv2.waitKey(1) & 0xFF == ord('x'):\n",
    "        break\n",
    "    #command to break the infinite loop if waittime is 1 s and key x is pressed then we come out of loop\n",
    "\n",
    "cv2.destroyAllWindows()"
   ]
  },
  {
   "cell_type": "markdown",
   "metadata": {},
   "source": [
    "**Working with videos**"
   ]
  },
  {
   "cell_type": "markdown",
   "metadata": {},
   "source": [
    "Videos are sequence of image which seems videos because of persistence of vision to human eye."
   ]
  },
  {
   "cell_type": "code",
   "execution_count": 5,
   "metadata": {},
   "outputs": [],
   "source": [
    "cap=cv2.VideoCapture(0)\n",
    "#cap stands for capture\n",
    "#0 for primary webcam of your system,if you have any other camera use 1/2/3\n",
    "\n",
    "#to display the above webcam vdo\n",
    "while True:\n",
    "    ret,frame=cap.read()\n",
    "    #we are continously reading frame by frame\n",
    "    #ret shows whether vdo is still going on or has ended.yeh jabtk true hai vdo chl rha hai\n",
    "\n",
    "    #to display webcam\n",
    "    cv2.imshow(\"webcam\",frame)\n",
    "    #window name is webcam and image is inside frame stored as numpy array \n",
    "    if cv2.waitKey(1) & 0xFF == ord('x'):\n",
    "        break\n",
    "    #command to break the infinite loop if waittime is 1 s and key x is pressed then we come out of loop\n",
    "\n",
    "cv2.destroyAllWindows() "
   ]
  },
  {
   "cell_type": "code",
   "execution_count": 6,
   "metadata": {},
   "outputs": [],
   "source": [
    "#if we want our vdo to be recorded as grayscale\n",
    "cap=cv2.VideoCapture(0)\n",
    "#cap stands for capture\n",
    "#0 for primary webcam of your system,if you have any other camera use 1/2/3\n",
    "\n",
    "#to display the above webcam vdo\n",
    "while True:\n",
    "    ret,frame=cap.read()\n",
    "    #we are continously reading frame by frame\n",
    "    #ret shows whether vdo is still going on or has ended.yeh jabtk true hai vdo chl rha hai\n",
    "    \n",
    "    img_gray=cv2.cvtColor(frame,cv2.COLOR_BGR2GRAY)\n",
    "\n",
    "    #to display webcam\n",
    "    cv2.imshow(\"webcam\",img_gray)\n",
    "    #window name is webcam and image is inside frame stored as numpy array \n",
    "    if cv2.waitKey(1) & 0xFF == ord('x'):\n",
    "        break\n",
    "    #command to break the infinite loop if waittime is 1 s and key x is pressed then we come out of loop\n",
    "\n",
    "cv2.destroyAllWindows() "
   ]
  },
  {
   "cell_type": "code",
   "execution_count": null,
   "metadata": {},
   "outputs": [],
   "source": [
    "#now we will store whatever we are seeing through webcam\n",
    "cap=cv2.VideoCapture(0)\n",
    "\n",
    "fourcc = cv2.VideoWriter_fourcc(*'XVID') #encoding techniques for  vdo(xvid/mp4)\n",
    "out = cv2.VideoWriter('output1.avi', fourcc, 20.0, (640,  480))\n",
    "#here parameters are output name,encoding,frame rate and width and height of vdo\n",
    "while True:\n",
    "    ret,frame=cap.read()\n",
    "    #we are continously reading frame by frame\n",
    "    #ret shows whether vdo is still going on or has ended.yeh jabtk true hai vdo chl rha hai\n",
    "    out.write(frame)\n",
    "    # write the frames continously\n",
    "\n",
    "    #to display webcam\n",
    "    cv2.imshow(\"webcam\",frame)\n",
    "    #window name is webcam and image is inside frame stored as numpy array \n",
    "    if cv2.waitKey(1) & 0xFF == ord('x'):\n",
    "        break\n",
    "out.release() #end/release your writer object\n",
    "cv2.destroyAllWindows()  \n",
    "\n",
    "#if you want grayscale vdo pass the grayscale cvt function before out.write"
   ]
  },
  {
   "cell_type": "code",
   "execution_count": null,
   "metadata": {},
   "outputs": [],
   "source": [
    "#to play a video using opencv\n",
    "cap=cv2.VideoCapture('output.avi')\n",
    "import time\n",
    "while True:\n",
    "    ret,frame=cap.read()\n",
    "    time.sleep(1/20) #jis frame rate par video record kia tha uska 1/ karne se original speed par vdo chalega\n",
    "    #else video will play at any rate without restriction\n",
    "    cv2.imshow(\"webcam\",frame)\n",
    "    if cv2.waitKey(1) & 0xFF == ord('x'):\n",
    "        break\n",
    "cv2.destroyAllWindows()    \n"
   ]
  }
 ],
 "metadata": {
  "kernelspec": {
   "display_name": "base",
   "language": "python",
   "name": "python3"
  },
  "language_info": {
   "codemirror_mode": {
    "name": "ipython",
    "version": 3
   },
   "file_extension": ".py",
   "mimetype": "text/x-python",
   "name": "python",
   "nbconvert_exporter": "python",
   "pygments_lexer": "ipython3",
   "version": "3.9.13"
  }
 },
 "nbformat": 4,
 "nbformat_minor": 2
}
